{
 "cells": [
  {
   "cell_type": "code",
   "execution_count": 1,
   "metadata": {},
   "outputs": [],
   "source": [
    "def add1(x):\n",
    "    return x+1"
   ]
  },
  {
   "cell_type": "code",
   "execution_count": 2,
   "metadata": {},
   "outputs": [
    {
     "data": {
      "text/plain": [
       "10"
      ]
     },
     "execution_count": 2,
     "metadata": {},
     "output_type": "execute_result"
    }
   ],
   "source": [
    "add1(9)"
   ]
  },
  {
   "cell_type": "code",
   "execution_count": 3,
   "metadata": {},
   "outputs": [
    {
     "name": "stdout",
     "output_type": "stream",
     "text": [
      "Help on function add1 in module __main__:\n",
      "\n",
      "add1(x)\n",
      "\n"
     ]
    }
   ],
   "source": [
    "help(add1)"
   ]
  },
  {
   "cell_type": "code",
   "execution_count": 4,
   "metadata": {},
   "outputs": [
    {
     "name": "stdout",
     "output_type": "stream",
     "text": [
      "[10.0, 8.5, 9.5, 7.0, 7.0, 9.5, 9.0, 9.5]\n"
     ]
    }
   ],
   "source": [
    "# Build-in function print()\n",
    "\n",
    "album_ratings = [10.0, 8.5, 9.5, 7.0, 7.0, 9.5, 9.0, 9.5] \n",
    "print(album_ratings)"
   ]
  },
  {
   "cell_type": "code",
   "execution_count": 5,
   "metadata": {},
   "outputs": [
    {
     "data": {
      "text/plain": [
       "70.0"
      ]
     },
     "execution_count": 5,
     "metadata": {},
     "output_type": "execute_result"
    }
   ],
   "source": [
    "# Use sum() to add every element in a list or tuple together\n",
    "\n",
    "sum(album_ratings)"
   ]
  },
  {
   "cell_type": "code",
   "execution_count": 6,
   "metadata": {},
   "outputs": [
    {
     "name": "stdout",
     "output_type": "stream",
     "text": [
      "Michael Jackson is an artist\n",
      "Whitney Houston is an artist\n"
     ]
    }
   ],
   "source": [
    "artist = \"Michael Jackson\"\n",
    "\n",
    "def printer(artist):\n",
    "    global internal_var \n",
    "    internal_var= \"Whitney Houston\"\n",
    "    print(artist,\"is an artist\")\n",
    "\n",
    "printer(artist) \n",
    "printer(internal_var)"
   ]
  },
  {
   "cell_type": "markdown",
   "metadata": {},
   "source": [
    "### Unpacking a function using positional argument.\n",
    "\n",
    "This method is very useful while printing your data in a raw format (without any comma and brackets ). Many of the programmer try to remove comma and bracket by using a convolution of functions, \n",
    "\n",
    "Hence this simple prefix asterisk can solve your problem in unpacking them.  "
   ]
  },
  {
   "cell_type": "code",
   "execution_count": 7,
   "metadata": {},
   "outputs": [
    {
     "name": "stdout",
     "output_type": "stream",
     "text": [
      "sunday monday tuesday wednesday\n",
      "sunday monday tuesday wednesday\n"
     ]
    }
   ],
   "source": [
    "arr = ['sunday', 'monday', 'tuesday', 'wednesday']\n",
    "\n",
    "# without using asterisk\n",
    "print(' '.join(map(str,arr))) \n",
    "\n",
    "# using asterisk\n",
    "print (*arr)\n"
   ]
  },
  {
   "cell_type": "markdown",
   "metadata": {},
   "source": [
    "### Passing a Function Using with an arbitrary number of positional arguments\n",
    "\n",
    "Here a single asterisk( * ) is also used in *args. \n",
    "\n",
    "#### It  is used to pass a variable number of arguments to a function, it is mostly used to pass a non-key argument and variable-length argument list.\n",
    "\n",
    "It has many uses, one such example is illustrated below, we make an addition function that takes any number of arguments and able to add them all together using *args.\n",
    "   \n"
   ]
  },
  {
   "cell_type": "code",
   "execution_count": 10,
   "metadata": {},
   "outputs": [
    {
     "name": "stdout",
     "output_type": "stream",
     "text": [
      "41\n",
      "(5, 10, 20, 6)\n"
     ]
    }
   ],
   "source": [
    "# using asterisk\n",
    "def addition(*args):\n",
    "    return sum(args)\n",
    "\n",
    "def printAll(*args):\n",
    "    print(args)\n",
    "\n",
    "print(addition(5, 10, 20, 6))\n",
    "printAll(5, 10, 20, 6)\n"
   ]
  },
  {
   "cell_type": "markdown",
   "metadata": {},
   "source": [
    "### Passing a  Function Using with an arbitrary number of keyword arguments\n",
    "\n",
    "Here a double asterisk( ** ) is also used as **kwargs, the double asterisks allow passing keyword arguments. \n",
    "\n",
    "This special symbol is used to pass a keyword arguments and variable-length argument lists. It has many uses, one such example is illustrated below"
   ]
  },
  {
   "cell_type": "code",
   "execution_count": 20,
   "metadata": {},
   "outputs": [
    {
     "name": "stdout",
     "output_type": "stream",
     "text": [
      "fruit :  cherry\n",
      "vegetable :  potato\n",
      "boy :  srikrishna\n",
      "\n",
      "\n",
      "fruit :  cherry\n",
      "vegetable :  potato\n",
      "boy :  srikrishna\n",
      "\n",
      "\n"
     ]
    },
    {
     "ename": "TypeError",
     "evalue": "keywords must be strings",
     "output_type": "error",
     "traceback": [
      "\u001b[0;31m---------------------------------------------------------------------------\u001b[0m",
      "\u001b[0;31mTypeError\u001b[0m                                 Traceback (most recent call last)",
      "Cell \u001b[0;32mIn[20], line 13\u001b[0m\n\u001b[1;32m     10\u001b[0m food(\u001b[38;5;241m*\u001b[39m\u001b[38;5;241m*\u001b[39mitems)\n\u001b[1;32m     12\u001b[0m \u001b[38;5;28mdict\u001b[39m \u001b[38;5;241m=\u001b[39m {\u001b[38;5;124m\"\u001b[39m\u001b[38;5;124mkey1\u001b[39m\u001b[38;5;124m\"\u001b[39m: \u001b[38;5;241m1\u001b[39m, \u001b[38;5;124m\"\u001b[39m\u001b[38;5;124mkey2\u001b[39m\u001b[38;5;124m\"\u001b[39m: \u001b[38;5;124m\"\u001b[39m\u001b[38;5;124m2\u001b[39m\u001b[38;5;124m\"\u001b[39m, \u001b[38;5;241m3\u001b[39m: [\u001b[38;5;241m3\u001b[39m, \u001b[38;5;241m3\u001b[39m, \u001b[38;5;241m3\u001b[39m], (\u001b[38;5;241m4\u001b[39m,\u001b[38;5;241m4\u001b[39m,\u001b[38;5;241m4\u001b[39m): (\u001b[38;5;241m4\u001b[39m, \u001b[38;5;241m4\u001b[39m, \u001b[38;5;241m4\u001b[39m), (\u001b[38;5;124m'\u001b[39m\u001b[38;5;124mkey5\u001b[39m\u001b[38;5;124m'\u001b[39m): \u001b[38;5;241m5\u001b[39m, (\u001b[38;5;241m0\u001b[39m, \u001b[38;5;241m1\u001b[39m): \u001b[38;5;241m6\u001b[39m, \u001b[38;5;241m5\u001b[39m: \u001b[38;5;241m67\u001b[39m, \u001b[38;5;241m5\u001b[39m:\u001b[38;5;241m69\u001b[39m}\n\u001b[0;32m---> 13\u001b[0m \u001b[43mfood\u001b[49m\u001b[43m(\u001b[49m\u001b[38;5;241;43m*\u001b[39;49m\u001b[38;5;241;43m*\u001b[39;49m\u001b[38;5;28;43mdict\u001b[39;49m\u001b[43m)\u001b[49m\n",
      "\u001b[0;31mTypeError\u001b[0m: keywords must be strings"
     ]
    }
   ],
   "source": [
    "def food(**kwargs):\n",
    "    for key in kwargs:\n",
    "        print( key, \": \", kwargs[key] )\n",
    "    print(\"\\n\")\n",
    "\n",
    "\n",
    "food(fruit = 'cherry', vegetable = 'potato', boy = 'srikrishna')\n",
    "\n",
    "items = {'fruit' : 'cherry', 'vegetable' : 'potato', 'boy': 'srikrishna'}\n",
    "food(**items)\n",
    "\n",
    "dict = {\"key1\": 1, \"key2\": \"2\", 3: [3, 3, 3], (4,4,4): (4, 4, 4), ('key5'): 5, (0, 1): 6, 5: 67, 5:69}\n",
    "food(**dict)"
   ]
  },
  {
   "cell_type": "code",
   "execution_count": null,
   "metadata": {},
   "outputs": [],
   "source": []
  }
 ],
 "metadata": {
  "kernelspec": {
   "display_name": "Python 3",
   "language": "python",
   "name": "python3"
  },
  "language_info": {
   "codemirror_mode": {
    "name": "ipython",
    "version": 3
   },
   "file_extension": ".py",
   "mimetype": "text/x-python",
   "name": "python",
   "nbconvert_exporter": "python",
   "pygments_lexer": "ipython3",
   "version": "3.9.6"
  }
 },
 "nbformat": 4,
 "nbformat_minor": 2
}

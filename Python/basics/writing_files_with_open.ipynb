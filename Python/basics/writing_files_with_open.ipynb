{
 "cells": [
  {
   "cell_type": "code",
   "execution_count": 4,
   "metadata": {},
   "outputs": [],
   "source": [
    "exmp2 = \"data/Example2.txt\"\n",
    "\n",
    "# f = open(\"data/Example2.txt\", \"w\")\n",
    "\n",
    "with open(exmp2, \"w\") as writefile:\n",
    "    writefile.write(\"Line A\\n\")\n",
    "\n",
    "# f.write(\"Line A \\n\")\n",
    "\n",
    "# # f.flush()\n",
    "# f.close()\n",
    "    \n",
    "# we'll need to flush the contents of the filewriter, to be sure all the contents have been written. "
   ]
  },
  {
   "cell_type": "markdown",
   "metadata": {},
   "source": [
    "However, note that setting the mode to __w__ overwrites all the existing data in the file.\n"
   ]
  },
  {
   "cell_type": "code",
   "execution_count": 5,
   "metadata": {},
   "outputs": [
    {
     "name": "stdout",
     "output_type": "stream",
     "text": [
      "Overwrite\n",
      "\n"
     ]
    }
   ],
   "source": [
    "with open('data/Example2.txt', 'w') as writefile:\n",
    "    writefile.write(\"Overwrite\\n\")\n",
    "with open('data/Example2.txt', 'r') as testwritefile:\n",
    "    print(testwritefile.read())"
   ]
  },
  {
   "cell_type": "code",
   "execution_count": 6,
   "metadata": {},
   "outputs": [
    {
     "name": "stdout",
     "output_type": "stream",
     "text": [
      "\n"
     ]
    },
    {
     "data": {
      "text/plain": [
       "'Overwrite\\nThis is line C\\nThis is line D\\nThis is line E\\n'"
      ]
     },
     "execution_count": 6,
     "metadata": {},
     "output_type": "execute_result"
    }
   ],
   "source": [
    "# Write a new line to text file\n",
    "\n",
    "with open('data/Example2.txt', 'a+') as testwritefile:\n",
    "    testwritefile.write(\"This is line C\\n\")\n",
    "    testwritefile.write(\"This is line D\\n\")\n",
    "    testwritefile.write(\"This is line E\\n\")\n",
    "\n",
    "    print(testwritefile.read())\n",
    "\n",
    "open(exmp2, \"r\").read()"
   ]
  },
  {
   "cell_type": "markdown",
   "metadata": {},
   "source": [
    "## Appending Files\n",
    " We can write to files without losing any of the existing data as follows by setting the mode argument to append: **a**.  you can append a new line as follows:\n",
    "\n",
    "\n",
    "## Additional modes\n",
    "It's fairly ineffecient to open the file in **a** or **w** and then reopening it in **r** to read any lines. Luckily we can access the file in the following modes:\n",
    "- **r+** : Reading and writing. Cannot truncate the file.\n",
    "- **w+** : Writing and reading. Truncates the file.\n",
    "- **a+** : Appending and Reading. Creates a new file, if none exists.\n",
    "You dont have to dwell on the specifics of each mode for this lab. \n"
   ]
  },
  {
   "cell_type": "markdown",
   "metadata": {},
   "source": []
  },
  {
   "cell_type": "markdown",
   "metadata": {},
   "source": [
    "Most of the file methods we've looked at work in a certain location in the file. <code>.write() </code> writes at a certain location in the file. <code>.read()</code> reads at a certain location in the file and so on. You can think of this as moving your pointer around in the notepad to make changes at specific location.\n",
    "\n",
    "Opening the file in **w** is akin to opening the .txt file, moving your cursor to the beginning of the text file, writing new text and deleting everything that follows.\n",
    "Whereas opening the file in **a** is similiar to opening the .txt file, moving your cursor to the very end and then adding the new pieces of text. <br>\n",
    "It is often very useful to know where the 'cursor' is in a file and be able to control it. The following methods allow us to do precisely this -\n",
    "- <code>.tell()</code> - returns the current position in bytes\n",
    "- <code>.seek(offset,from)</code> - changes the position by 'offset' bytes with respect to 'from'. From can take the value of 0,1,2 corresponding to beginning, relative to current position and end\n"
   ]
  },
  {
   "cell_type": "markdown",
   "metadata": {},
   "source": []
  },
  {
   "cell_type": "code",
   "execution_count": 7,
   "metadata": {},
   "outputs": [
    {
     "name": "stdout",
     "output_type": "stream",
     "text": [
      "Won't print anything after this:   See. Nothing in between.\n",
      "Cursor position:  100\n",
      "Cursor position:  0\n",
      "Will now print contents from seek location: \n",
      " Overwrite\n",
      "This is line C\n",
      "This is line D\n",
      "This is line E\n",
      "This is line C\n",
      "This is line D\n",
      "This is line E\n",
      "\n"
     ]
    }
   ],
   "source": [
    "# the code in above command inside the block didn't print anything, because the cursor was at the end of the file.\n",
    "# We'll need to seek it to the top.\n",
    "with open('data/Example2.txt', 'a+') as testwritefile:\n",
    "    testwritefile.write(\"This is line C\\n\")\n",
    "    testwritefile.write(\"This is line D\\n\")\n",
    "    testwritefile.write(\"This is line E\\n\")\n",
    "\n",
    "    print(\"Won't print anything after this: \" , testwritefile.read(), \"See. Nothing in between.\")\n",
    "\n",
    "    print(\"Cursor position: \" ,testwritefile.tell())\n",
    "    testwritefile.seek(0,0)\n",
    "    print(\"Cursor position: \" ,testwritefile.tell())\n",
    "\n",
    "    print(\"Will now print contents from seek location: \\n\", testwritefile.read())\n"
   ]
  },
  {
   "cell_type": "code",
   "execution_count": 8,
   "metadata": {},
   "outputs": [
    {
     "name": "stdout",
     "output_type": "stream",
     "text": [
      "Overwrite\n",
      "This is line C\n",
      "This is line D\n",
      "This is line E\n",
      "This is line C\n",
      "This is line D\n",
      "This is line E\n",
      "\n"
     ]
    }
   ],
   "source": [
    "# Let's now create a file and Copy 1st file to another\n",
    "\n",
    "with open (exmp2, \"r\") as file1:\n",
    "    with open (\"data/Example3.txt\", \"w+\") as file2:\n",
    "        content = file1.read()\n",
    "\n",
    "        file2.write(content)\n",
    "\n",
    "        file2.seek(0,0)\n",
    "        print(file2.read())\n",
    "\n",
    "\n",
    "# we can also write the lines in a loop, for more control\n",
    "# del(str)\n",
    "\n",
    "with open (exmp2, \"r\") as file1:\n",
    "    with open (\"data/Example3.txt\", \"w+\") as file2:\n",
    "        for i, line in enumerate(file1):\n",
    "            content = str(i) + \" - \"+ line\n",
    "            file2.write(content)\n",
    "\n",
    "        \n",
    "        file2.seek(0,0)\n",
    "        file2.read()\n"
   ]
  },
  {
   "cell_type": "code",
   "execution_count": null,
   "metadata": {},
   "outputs": [],
   "source": []
  }
 ],
 "metadata": {
  "kernelspec": {
   "display_name": "Python 3",
   "language": "python",
   "name": "python3"
  },
  "language_info": {
   "codemirror_mode": {
    "name": "ipython",
    "version": 3
   },
   "file_extension": ".py",
   "mimetype": "text/x-python",
   "name": "python",
   "nbconvert_exporter": "python",
   "pygments_lexer": "ipython3",
   "version": "3.9.6"
  }
 },
 "nbformat": 4,
 "nbformat_minor": 2
}

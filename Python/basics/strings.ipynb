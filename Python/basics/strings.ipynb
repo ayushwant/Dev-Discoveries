{
 "cells": [
  {
   "cell_type": "code",
   "execution_count": 16,
   "metadata": {},
   "outputs": [
    {
     "name": "stdout",
     "output_type": "stream",
     "text": [
      "3.9.6 (default, Nov 10 2023, 13:38:27) \n",
      "[Clang 15.0.0 (clang-1500.1.0.2.5)]\n"
     ]
    }
   ],
   "source": [
    "import sys\n",
    "print(sys.version)\n",
    "#prints the version of python being used"
   ]
  },
  {
   "cell_type": "code",
   "execution_count": 17,
   "metadata": {},
   "outputs": [
    {
     "name": "stdout",
     "output_type": "stream",
     "text": [
      "Hello World!\n"
     ]
    }
   ],
   "source": [
    "str = \"Hello World!\"\n",
    "print(str)"
   ]
  },
  {
   "cell_type": "code",
   "execution_count": 32,
   "metadata": {},
   "outputs": [
    {
     "name": "stdout",
     "output_type": "stream",
     "text": [
      "sys.float_info(max=1.7976931348623157e+308, max_exp=1024, max_10_exp=308, min=2.2250738585072014e-308, min_exp=-1021, min_10_exp=-307, dig=15, mant_dig=53, epsilon=2.220446049250313e-16, radix=2, rounds=1)\n",
      "sys.int_info(bits_per_digit=30, sizeof_digit=4)\n",
      "['__add__', '__class__', '__contains__', '__delattr__', '__dir__', '__doc__', '__eq__', '__format__', '__ge__', '__getattribute__', '__getitem__', '__getnewargs__', '__gt__', '__hash__', '__init__', '__init_subclass__', '__iter__', '__le__', '__len__', '__lt__', '__mod__', '__mul__', '__ne__', '__new__', '__reduce__', '__reduce_ex__', '__repr__', '__rmod__', '__rmul__', '__setattr__', '__sizeof__', '__str__', '__subclasshook__', 'capitalize', 'casefold', 'center', 'count', 'encode', 'endswith', 'expandtabs', 'find', 'format', 'format_map', 'index', 'isalnum', 'isalpha', 'isascii', 'isdecimal', 'isdigit', 'isidentifier', 'islower', 'isnumeric', 'isprintable', 'isspace', 'istitle', 'isupper', 'join', 'ljust', 'lower', 'lstrip', 'maketrans', 'partition', 'removeprefix', 'removesuffix', 'replace', 'rfind', 'rindex', 'rjust', 'rpartition', 'rsplit', 'rstrip', 'split', 'splitlines', 'startswith', 'strip', 'swapcase', 'title', 'translate', 'upper', 'zfill']\n"
     ]
    }
   ],
   "source": [
    "str # prints the string 'Hello World' with single quotes\n",
    "print(sys.float_info)\n",
    "print(sys.int_info)\n",
    "\n",
    "print(dir(str))\n",
    "# In the output of dir(obj), you'll see all the attributes and methods of the object, \n",
    "# including those inherited from its class hierarchy."
   ]
  },
  {
   "cell_type": "code",
   "execution_count": 19,
   "metadata": {},
   "outputs": [
    {
     "name": "stdout",
     "output_type": "stream",
     "text": [
      "Hello World!\n",
      "[0, 1, 2, 3, 4, 5, 6, 7, 8, 9, 10, 11]\n",
      "H\n",
      "!\n",
      "Hello World!Hello World!\n"
     ]
    }
   ],
   "source": [
    "print(str)\n",
    "#print indices of the string\n",
    "array = list(range(len(str))) # creates a list of numbers from 0 to the length of the string\n",
    "print(array)\n",
    "\n",
    "print(str[0]) # prints the first character of the string\n",
    "print(str[-1]) # prints the last character of the string\n",
    "\n",
    "print(str * 2) # print 3 copies of the original string"
   ]
  },
  {
   "cell_type": "markdown",
   "metadata": {},
   "source": [
    "### Slicing\n",
    "\n",
    "In Python, slicing can be used on any sequence type, not just strings. \n",
    "\n",
    "This includes lists, tuples, and others. The syntax for slicing is `sequence[start:stop:step]`, where:\n",
    "\n",
    "- `start` is the starting index where the slice starts. (inclusive)\n",
    "- `stop` is the ending index where the slice stops. (exclusive)\n",
    "- `step` is the amount by which the index increases during the slice.\n",
    "\n",
    "If any of these are omitted, they default to the following:\n",
    "\n",
    "- `start` defaults to 0.\n",
    "- `stop` defaults to `len(sequence)`.\n",
    "- `step` defaults to 1."
   ]
  },
  {
   "cell_type": "code",
   "execution_count": 20,
   "metadata": {},
   "outputs": [
    {
     "name": "stdout",
     "output_type": "stream",
     "text": [
      "llo\n",
      "llo World!\n",
      "Hello\n",
      "HloWrd\n",
      "orl\n",
      "!dlroW olleH\n"
     ]
    }
   ],
   "source": [
    "#slicing\n",
    "# Slice from index 2 to 5\n",
    "print(str[2:5])\n",
    "\n",
    "# Slice from index 2 to end\n",
    "print(str[2:])\n",
    "\n",
    "# Slice from start to index 5\n",
    "print(str[:5])\n",
    "\n",
    "# Slice with a step of 2 (every other character)\n",
    "print(str[::2])\n",
    "\n",
    "# Slice with a negative start index (counting from the end)\n",
    "print(str[-5:-2])\n",
    "\n",
    "# Slice with a negative step (reverses the string)\n",
    "print(str[-1::-1])\n"
   ]
  },
  {
   "cell_type": "markdown",
   "metadata": {},
   "source": [
    "In Python, when you use a negative step in slicing, such as `-1`, the default start and stop indices are swapped. So, `str[::-1]` starts at the end of the string and ends at the start. \n",
    "\n",
    "Here's why:\n",
    "\n",
    "- `str[::-1]` is a shorthand for `str[len(str):-len(str)-1:-1]`.\n",
    "- `len(str)` is the length of the string, which is also the index of the end of the string.\n",
    "- `-len(str)-1` is a way to refer to the start of the string when going backwards.\n",
    "\n",
    "So, `str[::-1]` effectively means \"start at the end of the string, stop at the start, and step backwards by 1\". This results in a reversed copy of the string.\n",
    "\n",
    "In Python, negative indices count from the end of the sequence. So, `str[-1]` refers to the last character of the string, `str[-2]` refers to the second last character, and so on. When you use a negative step in slicing, it leverages this feature to iterate over the sequence in reverse."
   ]
  },
  {
   "cell_type": "code",
   "execution_count": 27,
   "metadata": {},
   "outputs": [
    {
     "name": "stdout",
     "output_type": "stream",
     "text": [
      "!dlroW olleH\n",
      "ld!\n",
      "Hello Wor\n",
      "HloWr\n"
     ]
    }
   ],
   "source": [
    "# Slice with a negative step (reverses the string)\n",
    "print(str[::-1])\n",
    "\n",
    "# Get the last 3 characters\n",
    "print(str[-3::])\n",
    "\n",
    "# exclude the last 3 characters\n",
    "print(str[:-3:])\n",
    "\n",
    "# create a slice that starts at the beginning of the string, \n",
    "# ends at the third last character, and includes every second character\n",
    "print(str[:-3:2])"
   ]
  },
  {
   "cell_type": "markdown",
   "metadata": {},
   "source": [
    "String are immutable in python.\n",
    "\n",
    "String concatenation (or any other method applied on a string) creates a new string with the updated value.\n",
    "\n",
    "String are sequences. Thus, they have methods that work on list and tuples.\n",
    "They also have some other methods that only work on strings. "
   ]
  },
  {
   "cell_type": "code",
   "execution_count": 39,
   "metadata": {},
   "outputs": [
    {
     "name": "stdout",
     "output_type": "stream",
     "text": [
      " Michael Jackson \t is the best\n",
      " Michael Jackson \\t is the best\n"
     ]
    }
   ],
   "source": [
    "print(\" Michael Jackson \\t is the best\")\n",
    "# We can also place an \"r\" before the string to display the backslash:\n",
    "# r will tell python that string will be display as raw string\n",
    "\n",
    "print(r\" Michael Jackson \\t is the best\" )"
   ]
  },
  {
   "cell_type": "code",
   "execution_count": 40,
   "metadata": {},
   "outputs": [
    {
     "data": {
      "text/plain": [
       "['Michael', 'Jackson']"
      ]
     },
     "execution_count": 40,
     "metadata": {},
     "output_type": "execute_result"
    }
   ],
   "source": [
    "#Split the substring into list\n",
    "name = \"Michael Jackson\"\n",
    "split_string = (name.split())\n",
    "split_string"
   ]
  },
  {
   "cell_type": "markdown",
   "metadata": {},
   "source": [
    "## Regex\n",
    "\n",
    "In Python, RegEx (short for Regular Expression) is a tool for matching and handling strings.\n",
    "\n",
    "This RegEx module provides several functions for working with regular expressions, including search, split, findall, and sub.\n",
    "\n",
    "Python provides a built-in module called re, which allows you to work with regular expressions. First, import the re module"
   ]
  },
  {
   "cell_type": "code",
   "execution_count": 41,
   "metadata": {},
   "outputs": [
    {
     "name": "stdout",
     "output_type": "stream",
     "text": [
      "Match found!\n"
     ]
    }
   ],
   "source": [
    "import re\n",
    "\n",
    "s1 = \"Michael Jackson is the best\"\n",
    "\n",
    "# Define the pattern to search for\n",
    "pattern = r\"Jackson\"\n",
    "\n",
    "# Use the search() function to search for the pattern in the string\n",
    "result = re.search(pattern, s1)\n",
    "\n",
    "# Check if a match was found\n",
    "if result:\n",
    "    print(\"Match found!\")\n",
    "else:\n",
    "    print(\"Match not found.\")"
   ]
  },
  {
   "cell_type": "markdown",
   "metadata": {},
   "source": [
    "Regular expressions (RegEx) are patterns used to match and manipulate strings of text. There are several special sequences in RegEx that can be used to match specific characters or patterns.\n",
    "\n",
    "Special Sequence\tMeaning\tExample\n",
    "\\d\tMatches any digit character (0-9)\t\"123\" matches \"\\d\\d\\d\"\n",
    "\\D\tMatches any non-digit character\t\"hello\" matches \"\\D\\D\\D\\D\\D\"\n",
    "\\w\tMatches any word character (a-z, A-Z, 0-9, and _)\t\"hello_world\" matches \"\\w\\w\\w\\w\\w\\w\\w\\w\\w\"\n",
    "\\W\tMatches any non-word character\t\"@#$%\" matches \"\\W\\W\\W\\W\"\n",
    "\\s\tMatches any whitespace character (space, tab, newline, etc.)\t\"hello world\" matches \"\\w\\s\\w\\w\\w\\w\\w\"\n",
    "\\S\tMatches any non-whitespace character\t\"hello_world\" matches \"\\S\\S\\S\\S\\S\\S\\S\\S\\S\"\n",
    "\\b\tMatches the boundary between a word character and a non-word character\t\"cat\" matches \"\\bcat\\b\" in \"The cat sat on the mat\"\n",
    "\\B\tMatches any position that is not a word boundary\t\"cat\" matches \"\\Bcat\\B\" in \"category\" but not in \"The cat sat on the mat\"\n"
   ]
  },
  {
   "cell_type": "code",
   "execution_count": 42,
   "metadata": {},
   "outputs": [
    {
     "name": "stdout",
     "output_type": "stream",
     "text": [
      "Phone number found: 1234567890\n"
     ]
    }
   ],
   "source": [
    "pattern = r\"\\d\\d\\d\\d\\d\\d\\d\\d\\d\\d\"  # Matches any ten consecutive digits\n",
    "text = \"My Phone number is 1234567890\"\n",
    "match = re.search(pattern, text)\n",
    "\n",
    "if match:\n",
    "    print(\"Phone number found:\", match.group())\n",
    "else:\n",
    "    print(\"No match\")"
   ]
  },
  {
   "cell_type": "code",
   "execution_count": 43,
   "metadata": {},
   "outputs": [
    {
     "name": "stdout",
     "output_type": "stream",
     "text": [
      "Matches: [',', ' ', '!']\n"
     ]
    }
   ],
   "source": [
    "pattern = r\"\\W\"  # Matches any non-word character\n",
    "text = \"Hello, world!\"\n",
    "matches = re.findall(pattern, text)\n",
    "\n",
    "print(\"Matches:\", matches)"
   ]
  },
  {
   "cell_type": "code",
   "execution_count": 44,
   "metadata": {},
   "outputs": [
    {
     "name": "stdout",
     "output_type": "stream",
     "text": [
      "['as', 'as']\n"
     ]
    }
   ],
   "source": [
    "s2 = \"Michael Jackson was a singer and known as the 'King of Pop'\"\n",
    "\n",
    "\n",
    "# Use the findall() function to find all occurrences of the \"as\" in the string\n",
    "result = re.findall(\"as\", s2)\n",
    "\n",
    "# Print out the list of matched words\n",
    "print(result)\n"
   ]
  },
  {
   "cell_type": "code",
   "execution_count": 45,
   "metadata": {},
   "outputs": [
    {
     "name": "stdout",
     "output_type": "stream",
     "text": [
      "['Michael', 'Jackson', 'was', 'a', 'singer', 'and', 'known', 'as', 'the', \"'King\", 'of', \"Pop'\"]\n"
     ]
    }
   ],
   "source": [
    "# Use the split function to split the string by the \"\\s\"\n",
    "split_array = re.split(\"\\s\", s2)\n",
    "\n",
    "# The split_array contains all the substrings, split by whitespace characters\n",
    "print(split_array) "
   ]
  },
  {
   "cell_type": "code",
   "execution_count": 46,
   "metadata": {},
   "outputs": [
    {
     "name": "stdout",
     "output_type": "stream",
     "text": [
      "Michael Jackson was a singer and known as the 'legend'\n"
     ]
    }
   ],
   "source": [
    "# Define the regular expression pattern to search for\n",
    "pattern = r\"King of Pop\"\n",
    "\n",
    "# Define the replacement string\n",
    "replacement = \"legend\"\n",
    "\n",
    "# Use the sub function to replace the pattern with the replacement string\n",
    "new_string = re.sub(pattern, replacement, s2, flags=re.IGNORECASE)\n",
    "\n",
    "# The new_string contains the original string with the pattern replaced by the replacement string\n",
    "print(new_string) "
   ]
  },
  {
   "cell_type": "code",
   "execution_count": 47,
   "metadata": {},
   "outputs": [
    {
     "data": {
      "text/plain": [
       "'12'"
      ]
     },
     "execution_count": 47,
     "metadata": {},
     "output_type": "execute_result"
    }
   ],
   "source": [
    "'1' + '2'"
   ]
  },
  {
   "cell_type": "code",
   "execution_count": null,
   "metadata": {},
   "outputs": [],
   "source": []
  }
 ],
 "metadata": {
  "kernelspec": {
   "display_name": "Python 3",
   "language": "python",
   "name": "python3"
  },
  "language_info": {
   "codemirror_mode": {
    "name": "ipython",
    "version": 3
   },
   "file_extension": ".py",
   "mimetype": "text/x-python",
   "name": "python",
   "nbconvert_exporter": "python",
   "pygments_lexer": "ipython3",
   "version": "3.9.6"
  }
 },
 "nbformat": 4,
 "nbformat_minor": 2
}

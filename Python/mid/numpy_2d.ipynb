{
 "cells": [
  {
   "cell_type": "code",
   "execution_count": 1,
   "metadata": {},
   "outputs": [
    {
     "data": {
      "text/plain": [
       "[[11, 12, 13], [21, 22, 23], [31, 32, 33]]"
      ]
     },
     "execution_count": 1,
     "metadata": {},
     "output_type": "execute_result"
    }
   ],
   "source": [
    "# Create a list\n",
    "\n",
    "a = [[11, 12, 13], [21, 22, 23], [31, 32, 33]]\n",
    "a"
   ]
  },
  {
   "cell_type": "code",
   "execution_count": 7,
   "metadata": {},
   "outputs": [
    {
     "name": "stdout",
     "output_type": "stream",
     "text": [
      "[[11 12 13]\n",
      " [21 22 23]\n",
      " [31 32 33]]\n",
      "<class 'numpy.ndarray'>\n",
      "int64\n",
      "(3, 3)\n",
      "9\n",
      "11\n",
      "22\n",
      "-1\n"
     ]
    }
   ],
   "source": [
    "import numpy as np\n",
    "arr = np.array(a)\n",
    "\n",
    "print(arr)\n",
    "print(type(arr))\n",
    "print(arr.dtype)\n",
    "print(arr.shape) # output = (3, 3). Indicates 3 rows and 3 columns\n",
    "\n",
    "print(arr.size) # multiple all values of shape: 3*3 = 9\n",
    "\n",
    "print(arr[0][0])\n",
    "print(arr[1][1])\n",
    "arr[0][0] = -1\n",
    "print(arr[0][0])\n",
    "\n"
   ]
  },
  {
   "cell_type": "code",
   "execution_count": 12,
   "metadata": {},
   "outputs": [
    {
     "name": "stdout",
     "output_type": "stream",
     "text": [
      "[[-1 12 13]\n",
      " [21 22 23]\n",
      " [31 32 33]] \n",
      "\n",
      "[-1 12]\n",
      "[12 22]\n",
      "[[-1 12]\n",
      " [21 22]]\n"
     ]
    }
   ],
   "source": [
    "# slicing\n",
    "print(arr , \"\\n\")\n",
    "\n",
    "print( arr[0, 0:2] ) # print the first 2 values of 0th row\n",
    "print( arr[0:2, 1] ) # print the first 2 values of 1st column\n",
    "\n",
    "print( arr[0:2, 0:2] ) # print the first 2 rows of the first 2 columns"
   ]
  },
  {
   "cell_type": "markdown",
   "metadata": {},
   "source": [
    "## Basic Mathematical Operations\n"
   ]
  },
  {
   "cell_type": "code",
   "execution_count": 17,
   "metadata": {},
   "outputs": [
    {
     "name": "stdout",
     "output_type": "stream",
     "text": [
      "[[3 1]\n",
      " [1 3]]\n",
      "[[-1 -1]\n",
      " [-1 -1]]\n",
      "[[2 0]\n",
      " [0 2]]\n",
      "[[0.5 0. ]\n",
      " [0.  0.5]]\n"
     ]
    }
   ],
   "source": [
    "x = np.array([[1, 0], [0, 1]]) \n",
    "\n",
    "y = np.array([[2, 1], [1, 2]]) \n",
    "\n",
    "z = x+y\n",
    "print(z)\n",
    "z = x-y\n",
    "print(z)\n",
    "z = x*y\n",
    "print(z)\n",
    "z = x/y\n",
    "print(z)\n",
    "\n"
   ]
  },
  {
   "cell_type": "code",
   "execution_count": 21,
   "metadata": {},
   "outputs": [
    {
     "name": "stdout",
     "output_type": "stream",
     "text": [
      "[[0 2]\n",
      " [0 2]]\n",
      "[[0.         0.90929743]\n",
      " [0.         0.90929743]]\n",
      "[[0 0]\n",
      " [2 2]]\n"
     ]
    }
   ],
   "source": [
    "x = np.array([[0, 1, 1], [1, 0, 1]])\n",
    "\n",
    "y = np.array([[1, 1], [1, 1], [-1, 1]])\n",
    "\n",
    "# dor product does the matrix multiplication\n",
    "z = np.dot(x,y)\n",
    "print(z)\n",
    "\n",
    "print(np.sin(z))\n",
    "\n",
    "# print transpose\n",
    "print(z.T)"
   ]
  },
  {
   "cell_type": "code",
   "execution_count": null,
   "metadata": {},
   "outputs": [],
   "source": []
  }
 ],
 "metadata": {
  "kernelspec": {
   "display_name": "Python 3",
   "language": "python",
   "name": "python3"
  },
  "language_info": {
   "codemirror_mode": {
    "name": "ipython",
    "version": 3
   },
   "file_extension": ".py",
   "mimetype": "text/x-python",
   "name": "python",
   "nbconvert_exporter": "python",
   "pygments_lexer": "ipython3",
   "version": "3.9.6"
  }
 },
 "nbformat": 4,
 "nbformat_minor": 2
}

{
 "cells": [
  {
   "cell_type": "code",
   "execution_count": 2,
   "metadata": {},
   "outputs": [
    {
     "name": "stderr",
     "output_type": "stream",
     "text": [
      "/Users/ayushwantgaurav/Library/Python/3.9/lib/python/site-packages/urllib3/__init__.py:35: NotOpenSSLWarning: urllib3 v2 only supports OpenSSL 1.1.1+, currently the 'ssl' module is compiled with 'LibreSSL 2.8.3'. See: https://github.com/urllib3/urllib3/issues/3020\n",
      "  warnings.warn(\n"
     ]
    }
   ],
   "source": [
    "from bs4 import BeautifulSoup # this module helps in web scrapping.\n",
    "import requests  # this module helps us to download a web page\n",
    "import lxml"
   ]
  },
  {
   "cell_type": "code",
   "execution_count": 3,
   "metadata": {},
   "outputs": [],
   "source": [
    "url = \"https://www.timesjobs.com/candidate/job-search.html?searchType=Home_Search&from=submit&asKey=OFF&txtKeywords=&cboPresFuncArea=35\"\n",
    "html_string = requests.get(url).text\n",
    "soup = BeautifulSoup(html_string, 'lxml')\n",
    "# print(soup.prettify())"
   ]
  },
  {
   "cell_type": "code",
   "execution_count": 4,
   "metadata": {},
   "outputs": [],
   "source": [
    "import IPython.display as display\n",
    "# display.HTML(html_string)"
   ]
  },
  {
   "cell_type": "code",
   "execution_count": 5,
   "metadata": {},
   "outputs": [
    {
     "data": {
      "text/plain": [
       "bs4.element.Tag"
      ]
     },
     "execution_count": 5,
     "metadata": {},
     "output_type": "execute_result"
    }
   ],
   "source": [
    "all_jobs_list = soup.find('ul', class_='new-joblist')\n",
    "# display.HTML(str(all_jobs_list))\n",
    "type(all_jobs_list)"
   ]
  },
  {
   "cell_type": "code",
   "execution_count": 6,
   "metadata": {},
   "outputs": [],
   "source": [
    "class jobs:\n",
    "    def __init__(self, title, company, location, experience, skills, salary, posted_on):\n",
    "        self.title = title\n",
    "        self.company = company\n",
    "        self.location = location\n",
    "        self.experience = experience\n",
    "        self.skills = skills\n",
    "        self.salary = salary\n",
    "        self.posted_on = posted_on"
   ]
  },
  {
   "cell_type": "code",
   "execution_count": 13,
   "metadata": {},
   "outputs": [
    {
     "data": {
      "text/plain": [
       "'Urgently Hiring IT Professionals'"
      ]
     },
     "execution_count": 13,
     "metadata": {},
     "output_type": "execute_result"
    }
   ],
   "source": [
    "# print(all_jobs_list)\n",
    "\n",
    "scraped_jobs = []\n",
    "\n",
    "li_tags = all_jobs_list.find_all('li', class_='clearfix job-bx wht-shd-bx')\n",
    "\n",
    "for job in li_tags:\n",
    "    title = job.find('h2').text.strip()\n",
    "    company = job.find('h3', class_='joblist-comp-name').text.strip()\n",
    "\n",
    "    details_ul = job.find('ul', class_='top-jd-dtl clearfix')\n",
    "    location = details_ul.find_all('li')[-1].text.strip()\n",
    "    experience = details_ul.find_all('li')[0].text.strip()\n",
    "    salary = details_ul.find_all('li')[1].text.strip()\n",
    "    \n",
    "    skills = job.find('span', class_='srp-skills').text.strip()\n",
    "    posted_on = job.find('span', class_='sim-posted').span.text.strip()\n",
    "\n",
    "    scraped_jobs.append(jobs(title, company, location, experience, skills, salary, posted_on))\n",
    "\n",
    "\n",
    "scraped_jobs[0].title"
   ]
  },
  {
   "cell_type": "code",
   "execution_count": null,
   "metadata": {},
   "outputs": [],
   "source": []
  }
 ],
 "metadata": {
  "kernelspec": {
   "display_name": "Python 3",
   "language": "python",
   "name": "python3"
  },
  "language_info": {
   "codemirror_mode": {
    "name": "ipython",
    "version": 3
   },
   "file_extension": ".py",
   "mimetype": "text/x-python",
   "name": "python",
   "nbconvert_exporter": "python",
   "pygments_lexer": "ipython3",
   "version": "3.9.6"
  }
 },
 "nbformat": 4,
 "nbformat_minor": 2
}
